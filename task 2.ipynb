{
 "cells": [
  {
   "cell_type": "code",
   "execution_count": 7,
   "id": "b7f4557c",
   "metadata": {},
   "outputs": [
    {
     "name": "stdout",
     "output_type": "stream",
     "text": [
      "Collecting treelib\n",
      "  Downloading treelib-1.6.1.tar.gz (24 kB)\n",
      "  Preparing metadata (setup.py): started\n",
      "  Preparing metadata (setup.py): finished with status 'done'\n",
      "Collecting future\n",
      "  Downloading future-0.18.3.tar.gz (840 kB)\n",
      "     ------------------------------------- 840.9/840.9 kB 81.5 kB/s eta 0:00:00\n",
      "  Preparing metadata (setup.py): started\n",
      "  Preparing metadata (setup.py): finished with status 'done'\n",
      "Installing collected packages: future, treelib\n",
      "  Running setup.py install for future: started\n",
      "  Running setup.py install for future: finished with status 'done'\n",
      "  Running setup.py install for treelib: started\n",
      "  Running setup.py install for treelib: finished with status 'done'\n",
      "Successfully installed future-0.18.3 treelib-1.6.1\n"
     ]
    },
    {
     "name": "stderr",
     "output_type": "stream",
     "text": [
      "  DEPRECATION: future is being installed using the legacy 'setup.py install' method, because it does not have a 'pyproject.toml' and the 'wheel' package is not installed. pip 23.1 will enforce this behaviour change. A possible replacement is to enable the '--use-pep517' option. Discussion can be found at https://github.com/pypa/pip/issues/8559\n",
      "  DEPRECATION: treelib is being installed using the legacy 'setup.py install' method, because it does not have a 'pyproject.toml' and the 'wheel' package is not installed. pip 23.1 will enforce this behaviour change. A possible replacement is to enable the '--use-pep517' option. Discussion can be found at https://github.com/pypa/pip/issues/8559\n",
      "\n",
      "[notice] A new release of pip available: 22.3.1 -> 23.0.1\n",
      "[notice] To update, run: python.exe -m pip install --upgrade pip\n"
     ]
    }
   ],
   "source": [
    "!pip install treelib"
   ]
  },
  {
   "cell_type": "code",
   "execution_count": 4,
   "id": "6606a490",
   "metadata": {},
   "outputs": [],
   "source": [
    "import numpy as np\n"
   ]
  },
  {
   "cell_type": "code",
   "execution_count": 5,
   "id": "fbd03052",
   "metadata": {},
   "outputs": [],
   "source": [
    "list1 = np.random.randint(1500000,size=1000)\n",
    "indexes1 = np.unique(list1,return_index=True)[1]\n",
    "list_1k = np.array([list1[index] for index in sorted(indexes1)])\n",
    "\n",
    "list1 = np.random.randint(1500000,size=40000)\n",
    "indexes1 = np.unique(list1,return_index=True)[1]\n",
    "list_40k = np.array([list1[index] for index in sorted(indexes1)])\n",
    "\n",
    "list1 = np.random.randint(1500000,size=80000)\n",
    "indexes1 = np.unique(list1,return_index=True)[1]\n",
    "list_80k = np.array([list1[index] for index in sorted(indexes1)])\n",
    "\n",
    "list1 = np.random.randint(1500000,size=200000)\n",
    "indexes1 = np.unique(list1,return_index=True)[1]\n",
    "list_200k = np.array([list1[index] for index in sorted(indexes1)])\n",
    "\n",
    "list1 = np.random.randint(1500000,size=1500000)\n",
    "indexes1 = np.unique(list1,return_index=True)[1]\n",
    "list_1M = np.array([list1[index] for index in sorted(indexes1)])\n",
    "\n"
   ]
  },
  {
   "cell_type": "code",
   "execution_count": 9,
   "id": "436feaa3",
   "metadata": {},
   "outputs": [
    {
     "ename": "AttributeError",
     "evalue": "'numpy.ndarray' object has no attribute 'root'",
     "output_type": "error",
     "traceback": [
      "\u001b[1;31m---------------------------------------------------------------------------\u001b[0m",
      "\u001b[1;31mAttributeError\u001b[0m                            Traceback (most recent call last)",
      "Cell \u001b[1;32mIn[9], line 5\u001b[0m\n\u001b[0;32m      3\u001b[0m dfs \u001b[38;5;241m=\u001b[39m []\n\u001b[0;32m      4\u001b[0m labels \u001b[38;5;241m=\u001b[39m [\u001b[38;5;124m'\u001b[39m\u001b[38;5;124m1k\u001b[39m\u001b[38;5;124m'\u001b[39m,\u001b[38;5;124m'\u001b[39m\u001b[38;5;124m40k\u001b[39m\u001b[38;5;124m'\u001b[39m,\u001b[38;5;124m'\u001b[39m\u001b[38;5;124m80k\u001b[39m\u001b[38;5;124m'\u001b[39m,\u001b[38;5;124m'\u001b[39m\u001b[38;5;124m200k\u001b[39m\u001b[38;5;124m'\u001b[39m,\u001b[38;5;124m'\u001b[39m\u001b[38;5;124m1M\u001b[39m\u001b[38;5;124m'\u001b[39m]\n\u001b[1;32m----> 5\u001b[0m tree_1k \u001b[38;5;241m=\u001b[39m \u001b[43mTree\u001b[49m\u001b[43m(\u001b[49m\u001b[43mlist_1k\u001b[49m\u001b[43m)\u001b[49m\n\u001b[0;32m      6\u001b[0m start \u001b[38;5;241m=\u001b[39m time\u001b[38;5;241m.\u001b[39mtime()\n\u001b[0;32m      7\u001b[0m tree_1k\u001b[38;5;241m.\u001b[39mbfs()\n",
      "File \u001b[1;32m~\\AppData\\Local\\Programs\\Python\\Python310\\lib\\site-packages\\treelib\\tree.py:104\u001b[0m, in \u001b[0;36mTree.__init__\u001b[1;34m(self, tree, deep, node_class, identifier)\u001b[0m\n\u001b[0;32m    101\u001b[0m \u001b[38;5;28mself\u001b[39m\u001b[38;5;241m.\u001b[39mroot \u001b[38;5;241m=\u001b[39m \u001b[38;5;28;01mNone\u001b[39;00m\n\u001b[0;32m    103\u001b[0m \u001b[38;5;28;01mif\u001b[39;00m tree \u001b[38;5;129;01mis\u001b[39;00m \u001b[38;5;129;01mnot\u001b[39;00m \u001b[38;5;28;01mNone\u001b[39;00m:\n\u001b[1;32m--> 104\u001b[0m     \u001b[38;5;28mself\u001b[39m\u001b[38;5;241m.\u001b[39mroot \u001b[38;5;241m=\u001b[39m \u001b[43mtree\u001b[49m\u001b[38;5;241;43m.\u001b[39;49m\u001b[43mroot\u001b[49m\n\u001b[0;32m    105\u001b[0m     \u001b[38;5;28;01mfor\u001b[39;00m nid, node \u001b[38;5;129;01min\u001b[39;00m tree\u001b[38;5;241m.\u001b[39mnodes\u001b[38;5;241m.\u001b[39mitems():\n\u001b[0;32m    106\u001b[0m         new_node \u001b[38;5;241m=\u001b[39m deepcopy(node) \u001b[38;5;28;01mif\u001b[39;00m deep \u001b[38;5;28;01melse\u001b[39;00m node\n",
      "\u001b[1;31mAttributeError\u001b[0m: 'numpy.ndarray' object has no attribute 'root'"
     ]
    }
   ],
   "source": [
    "from treelib import Node, Tree\n",
    "bfs = []\n",
    "dfs = []\n",
    "labels = ['1k','40k','80k','200k','1M']\n",
    "tree_1k = Tree(list_1k)\n",
    "start = time.time()\n",
    "tree_1k.bfs()\n",
    "end = time.time()\n",
    "bfs.append(end-start)\n",
    "start = time.time()\n",
    "tree_1k.dfs()\n",
    "end = time.time()\n",
    "dfs.append(end-start)\n",
    "\n"
   ]
  },
  {
   "cell_type": "code",
   "execution_count": 10,
   "id": "9629f2a8",
   "metadata": {},
   "outputs": [
    {
     "ename": "AttributeError",
     "evalue": "'numpy.ndarray' object has no attribute 'root'",
     "output_type": "error",
     "traceback": [
      "\u001b[1;31m---------------------------------------------------------------------------\u001b[0m",
      "\u001b[1;31mAttributeError\u001b[0m                            Traceback (most recent call last)",
      "Cell \u001b[1;32mIn[10], line 1\u001b[0m\n\u001b[1;32m----> 1\u001b[0m tree_40k \u001b[38;5;241m=\u001b[39m \u001b[43mTree\u001b[49m\u001b[43m(\u001b[49m\u001b[43mlist_40k\u001b[49m\u001b[43m)\u001b[49m\n\u001b[0;32m      2\u001b[0m start \u001b[38;5;241m=\u001b[39m time\u001b[38;5;241m.\u001b[39mtime()\n\u001b[0;32m      3\u001b[0m tree_40k\u001b[38;5;241m.\u001b[39mbfs()\n",
      "File \u001b[1;32m~\\AppData\\Local\\Programs\\Python\\Python310\\lib\\site-packages\\treelib\\tree.py:104\u001b[0m, in \u001b[0;36mTree.__init__\u001b[1;34m(self, tree, deep, node_class, identifier)\u001b[0m\n\u001b[0;32m    101\u001b[0m \u001b[38;5;28mself\u001b[39m\u001b[38;5;241m.\u001b[39mroot \u001b[38;5;241m=\u001b[39m \u001b[38;5;28;01mNone\u001b[39;00m\n\u001b[0;32m    103\u001b[0m \u001b[38;5;28;01mif\u001b[39;00m tree \u001b[38;5;129;01mis\u001b[39;00m \u001b[38;5;129;01mnot\u001b[39;00m \u001b[38;5;28;01mNone\u001b[39;00m:\n\u001b[1;32m--> 104\u001b[0m     \u001b[38;5;28mself\u001b[39m\u001b[38;5;241m.\u001b[39mroot \u001b[38;5;241m=\u001b[39m \u001b[43mtree\u001b[49m\u001b[38;5;241;43m.\u001b[39;49m\u001b[43mroot\u001b[49m\n\u001b[0;32m    105\u001b[0m     \u001b[38;5;28;01mfor\u001b[39;00m nid, node \u001b[38;5;129;01min\u001b[39;00m tree\u001b[38;5;241m.\u001b[39mnodes\u001b[38;5;241m.\u001b[39mitems():\n\u001b[0;32m    106\u001b[0m         new_node \u001b[38;5;241m=\u001b[39m deepcopy(node) \u001b[38;5;28;01mif\u001b[39;00m deep \u001b[38;5;28;01melse\u001b[39;00m node\n",
      "\u001b[1;31mAttributeError\u001b[0m: 'numpy.ndarray' object has no attribute 'root'"
     ]
    }
   ],
   "source": [
    "tree_40k = Tree(list_40k)\n",
    "start = time.time()\n",
    "tree_40k.bfs()\n",
    "end = time.time()\n",
    "bfs.append(end-start)\n",
    "start = time.time()\n",
    "tree_40k.dfs()\n",
    "end = time.time()\n",
    "dfs.append(end-start)\n",
    "\n"
   ]
  },
  {
   "cell_type": "code",
   "execution_count": null,
   "id": "79d09dbf",
   "metadata": {},
   "outputs": [],
   "source": [
    "tree_80k = Tree(list_80k)\n",
    "start = time.time()\n",
    "tree_80k.bfs()\n",
    "end = time.time()\n",
    "bfs.append(end-start)\n",
    "start = time.time()\n",
    "tree_80k.dfs()\n",
    "end = time.time()\n",
    "dfs.append(end-start)\n",
    "\n"
   ]
  },
  {
   "cell_type": "code",
   "execution_count": null,
   "id": "601bad84",
   "metadata": {},
   "outputs": [],
   "source": [
    "tree_200k = Tree(list_200k)\n",
    "start = time.time()\n",
    "tree_200k.bfs()\n",
    "end = time.time()\n",
    "bfs.append(end-start)\n",
    "start = time.time()\n",
    "tree_200k.dfs()\n",
    "end = time.time()\n",
    "dfs.append(end-start)\n",
    "\n"
   ]
  },
  {
   "cell_type": "code",
   "execution_count": 1,
   "id": "bd60f045",
   "metadata": {},
   "outputs": [
    {
     "ename": "NameError",
     "evalue": "name 'Tree' is not defined",
     "output_type": "error",
     "traceback": [
      "\u001b[1;31m---------------------------------------------------------------------------\u001b[0m",
      "\u001b[1;31mNameError\u001b[0m                                 Traceback (most recent call last)",
      "Cell \u001b[1;32mIn[1], line 1\u001b[0m\n\u001b[1;32m----> 1\u001b[0m tree_1M \u001b[38;5;241m=\u001b[39m \u001b[43mTree\u001b[49m(list_1M)\n\u001b[0;32m      2\u001b[0m start \u001b[38;5;241m=\u001b[39m time\u001b[38;5;241m.\u001b[39mtime()\n\u001b[0;32m      3\u001b[0m tree_1M\u001b[38;5;241m.\u001b[39mbfs()\n",
      "\u001b[1;31mNameError\u001b[0m: name 'Tree' is not defined"
     ]
    }
   ],
   "source": [
    "tree_1M = Tree(list_1M)\n",
    "start = time.time()\n",
    "tree_1M.bfs()\n",
    "end = time.time()\n",
    "bfs.append(end-start)\n",
    "start = time.time()\n",
    "tree_1M.dfs()\n",
    "end = time.time()\n",
    "dfs.append(end-start)"
   ]
  },
  {
   "cell_type": "code",
   "execution_count": null,
   "id": "7077cc95",
   "metadata": {},
   "outputs": [],
   "source": []
  }
 ],
 "metadata": {
  "kernelspec": {
   "display_name": "Python 3 (ipykernel)",
   "language": "python",
   "name": "python3"
  },
  "language_info": {
   "codemirror_mode": {
    "name": "ipython",
    "version": 3
   },
   "file_extension": ".py",
   "mimetype": "text/x-python",
   "name": "python",
   "nbconvert_exporter": "python",
   "pygments_lexer": "ipython3",
   "version": "3.10.9"
  }
 },
 "nbformat": 4,
 "nbformat_minor": 5
}
