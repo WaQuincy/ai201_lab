{
 "cells": [
  {
   "cell_type": "code",
   "execution_count": 1,
   "id": "a8e6169f",
   "metadata": {},
   "outputs": [],
   "source": [
    "graph={\n",
    "    'g':['c','i'],\n",
    "    'c':['b','e'],\n",
    "    'i':['h','j'],\n",
    "    'b':['a'],\n",
    "    'e':['d','f'],\n",
    "    'h':[ ],\n",
    "    'j':['k'],\n",
    "    'a':[ ],\n",
    "    'd':[ ],\n",
    "    'f':[ ],\n",
    "    'k':[ ]\n",
    "}"
   ]
  },
  {
   "cell_type": "code",
   "execution_count": 2,
   "id": "e0940acd",
   "metadata": {},
   "outputs": [],
   "source": [
    "visited=set()\n",
    "def dfs(visited,graph,node):\n",
    "    if node not in visited:\n",
    "        print (node)\n",
    "        visited.add(node)\n",
    "        for neighbour in graph[node]:\n",
    "            dfs(visited,graph,neighbour)\n",
    "            "
   ]
  },
  {
   "cell_type": "code",
   "execution_count": 3,
   "id": "8919e5f1",
   "metadata": {},
   "outputs": [
    {
     "name": "stdout",
     "output_type": "stream",
     "text": [
      "g\n",
      "c\n",
      "b\n",
      "a\n",
      "e\n",
      "d\n",
      "f\n",
      "i\n",
      "h\n",
      "j\n",
      "k\n"
     ]
    }
   ],
   "source": [
    "dfs(visited,graph,'g')"
   ]
  },
  {
   "cell_type": "code",
   "execution_count": null,
   "id": "aaa79f21",
   "metadata": {},
   "outputs": [],
   "source": [
    "# CODE IMPLEMENTATION OF BFS IN GRAPHS"
   ]
  },
  {
   "cell_type": "code",
   "execution_count": 5,
   "id": "bd0549ee",
   "metadata": {},
   "outputs": [],
   "source": [
    "import collections"
   ]
  },
  {
   "cell_type": "code",
   "execution_count": 4,
   "id": "3c24a326",
   "metadata": {},
   "outputs": [],
   "source": [
    "graph = {\n",
    "    'A': ['B', 'C', 'D'],\n",
    "    'B': ['A'],\n",
    "    'C': ['A', 'D'],\n",
    "    'D': ['A', 'C', 'E'],\n",
    "    'E': ['D'],\n",
    "}"
   ]
  },
  {
   "cell_type": "code",
   "execution_count": 6,
   "id": "e0c0831d",
   "metadata": {},
   "outputs": [],
   "source": [
    "def bfs(g,root):\n",
    "\n",
    "    \n",
    "    queue = collections.dequeue([root])\n",
    "    visited=[]\n",
    "\n",
    "    while queue:\n",
    "        node=queue.popleft()\n",
    "        if node not in visited:\n",
    "            visited.append(node)\n",
    "        for item in g[node]:\n",
    "            if item not in visited:\n",
    "                 queue.append(item)\n",
    "    print(visited)\n",
    "             \n",
    "               \n"
   ]
  },
  {
   "cell_type": "code",
   "execution_count": null,
   "id": "6fe99b49",
   "metadata": {},
   "outputs": [],
   "source": []
  },
  {
   "cell_type": "code",
   "execution_count": 7,
   "id": "554a82b7",
   "metadata": {},
   "outputs": [
    {
     "name": "stdout",
     "output_type": "stream",
     "text": [
      "A B C D E "
     ]
    }
   ],
   "source": [
    "\n",
    "graph = {\n",
    "    'A': ['B', 'C', 'D'],\n",
    "    'B': ['A'],\n",
    "    'C': ['A', 'D'],\n",
    "    'D': ['A', 'C', 'E'],\n",
    "    'E': ['D'],\n",
    "}\n",
    "\n",
    "def bfs(node):\n",
    "\n",
    "    visited = [False] * (len(graph))\n",
    "\n",
    "    queue = []\n",
    "\n",
    "    visited.append(node)\n",
    "    queue.append(node)\n",
    "\n",
    "    while queue:\n",
    "      \n",
    "        v = queue.pop(0)\n",
    "        print(v, end=\" \")\n",
    "\n",
    "        for neigh in graph[v]:\n",
    "            if neigh not in visited:\n",
    "                visited.append(neigh)\n",
    "                queue.append(neigh)\n",
    "\n",
    "bfs('A')"
   ]
  },
  {
   "cell_type": "code",
   "execution_count": 8,
   "id": "55590ab9",
   "metadata": {},
   "outputs": [
    {
     "name": "stdout",
     "output_type": "stream",
     "text": [
      "[818, 99, 956, 971, 802, 862, 451, 796, 244, 760]\n"
     ]
    }
   ],
   "source": [
    "import random\n",
    "\n",
    "# generate 10 unique random numbers between 1 and 1000\n",
    "nums = random.sample(range(1, 1000), 10)\n",
    "print(nums)\n"
   ]
  },
  {
   "cell_type": "code",
   "execution_count": 9,
   "id": "fb16df85",
   "metadata": {},
   "outputs": [],
   "source": [
    "class Node:\n",
    "    def __init__(self, val):\n",
    "        self.val = val\n",
    "        self.left = None\n",
    "        self.right = None\n",
    "\n",
    "class BST:\n",
    "    def __init__(self):\n",
    "        self.root = None\n",
    "        \n",
    "    def insert(self, val):\n",
    "        if self.root is None:\n",
    "            self.root = Node(val)\n",
    "        else:\n",
    "            self._insert(val, self.root)\n",
    "            \n",
    "    def _insert(self, val, node):\n",
    "        if val < node.val:\n",
    "            if node.left is None:\n",
    "                node.left = Node(val)\n",
    "            else:\n",
    "                self._insert(val, node.left)\n",
    "        else:\n",
    "            if node.right is None:\n",
    "                node.right = Node(val)\n",
    "            else:\n",
    "                self._insert(val, node.right)\n",
    "\n",
    "# create a binary search tree for the first set of inputs\n",
    "bst = BST()\n",
    "for num in nums:\n",
    "    bst.insert(num)\n"
   ]
  },
  {
   "cell_type": "code",
   "execution_count": 10,
   "id": "8cddff5e",
   "metadata": {},
   "outputs": [],
   "source": [
    "def bfs(tree):\n",
    "    if tree.root is None:\n",
    "        return\n",
    "    \n",
    "    queue = []\n",
    "    visited = set()\n",
    "    queue.append(tree.root)\n",
    "    visited.add(tree.root)\n",
    "    \n",
    "    while queue:\n",
    "        curr = queue.pop(0)\n",
    "        if curr.left is not None and curr.left not in visited:\n",
    "            queue.append(curr.left)\n",
    "            visited.add(curr.left)\n",
    "        if curr.right is not None and curr.right not in visited:\n",
    "            queue.append(curr.right)\n",
    "            visited.add(curr.right)\n",
    "            \n",
    "        if len(visited) == total_len - 220:\n",
    "            return curr.val"
   ]
  },
  {
   "cell_type": "code",
   "execution_count": 11,
   "id": "68b6478d",
   "metadata": {},
   "outputs": [],
   "source": [
    "def dfs(tree):\n",
    "    if tree.root is None:\n",
    "        return\n",
    "    \n",
    "    stack = []\n",
    "    visited = set()\n",
    "    stack.append(tree.root)\n",
    "    visited.add(tree.root)\n",
    "    \n",
    "    while stack:\n",
    "        curr = stack.pop()\n",
    "        if curr.left is not None and curr.left not in visited:\n",
    "            stack.append(curr.left)\n",
    "            visited.add(curr.left)\n",
    "        if curr.right is not None and curr.right not in visited:\n",
    "            stack.append(curr.right)\n",
    "            visited.add(curr.right)\n",
    "            \n",
    "        if len(visited) == total_len - 220:\n",
    "            return curr.val\n"
   ]
  },
  {
   "cell_type": "code",
   "execution_count": 12,
   "id": "d1871ac6",
   "metadata": {},
   "outputs": [
    {
     "ename": "NameError",
     "evalue": "name 'total_len' is not defined",
     "output_type": "error",
     "traceback": [
      "\u001b[1;31m---------------------------------------------------------------------------\u001b[0m",
      "\u001b[1;31mNameError\u001b[0m                                 Traceback (most recent call last)",
      "Cell \u001b[1;32mIn[12], line 4\u001b[0m\n\u001b[0;32m      1\u001b[0m \u001b[38;5;28;01mimport\u001b[39;00m \u001b[38;5;21;01mtime\u001b[39;00m\n\u001b[0;32m      3\u001b[0m start_time \u001b[38;5;241m=\u001b[39m time\u001b[38;5;241m.\u001b[39mtime()\n\u001b[1;32m----> 4\u001b[0m bfs_val \u001b[38;5;241m=\u001b[39m \u001b[43mbfs\u001b[49m\u001b[43m(\u001b[49m\u001b[43mbst\u001b[49m\u001b[43m)\u001b[49m\n\u001b[0;32m      5\u001b[0m end_time \u001b[38;5;241m=\u001b[39m time\u001b[38;5;241m.\u001b[39mtime()\n\u001b[0;32m      7\u001b[0m \u001b[38;5;28mprint\u001b[39m(\u001b[38;5;124mf\u001b[39m\u001b[38;5;124m\"\u001b[39m\u001b[38;5;124mBFS value: \u001b[39m\u001b[38;5;132;01m{\u001b[39;00mbfs_val\u001b[38;5;132;01m}\u001b[39;00m\u001b[38;5;124m\"\u001b[39m)\n",
      "Cell \u001b[1;32mIn[10], line 19\u001b[0m, in \u001b[0;36mbfs\u001b[1;34m(tree)\u001b[0m\n\u001b[0;32m     16\u001b[0m     queue\u001b[38;5;241m.\u001b[39mappend(curr\u001b[38;5;241m.\u001b[39mright)\n\u001b[0;32m     17\u001b[0m     visited\u001b[38;5;241m.\u001b[39madd(curr\u001b[38;5;241m.\u001b[39mright)\n\u001b[1;32m---> 19\u001b[0m \u001b[38;5;28;01mif\u001b[39;00m \u001b[38;5;28mlen\u001b[39m(visited) \u001b[38;5;241m==\u001b[39m \u001b[43mtotal_len\u001b[49m \u001b[38;5;241m-\u001b[39m \u001b[38;5;241m220\u001b[39m:\n\u001b[0;32m     20\u001b[0m     \u001b[38;5;28;01mreturn\u001b[39;00m curr\u001b[38;5;241m.\u001b[39mval\n",
      "\u001b[1;31mNameError\u001b[0m: name 'total_len' is not defined"
     ]
    }
   ],
   "source": [
    "import time\n",
    "\n",
    "start_time = time.time()\n",
    "bfs_val = bfs(bst)\n",
    "end_time = time.time()\n",
    "\n",
    "print(f\"BFS value: {bfs_val}\")\n",
    "print(f\"BFS time taken: {end_time - start_time} seconds\")"
   ]
  },
  {
   "cell_type": "code",
   "execution_count": 13,
   "id": "49569e95",
   "metadata": {},
   "outputs": [],
   "source": [
    "graph = {\n",
    "    'A': set(['B', 'S']),\n",
    "    'B': set(['A']),\n",
    "    'S': set(['A','C','G']),\n",
    "    'C': set(['D','E','F','S']),\n",
    "    'G': set(['F','H','S']),\n",
    "    'D': set(['C']),\n",
    "    'E': set(['C', 'H']),\n",
    "    'F': set(['C', 'G']),\n",
    "    'H': set(['E', 'G'])\n",
    "}"
   ]
  },
  {
   "cell_type": "code",
   "execution_count": 14,
   "id": "dbb86b78",
   "metadata": {},
   "outputs": [],
   "source": [
    "def dfs(graph, start):\n",
    "    visited = set()  # set to keep track of visited nodes\n",
    "    stack = [start]  # stack for DFS traversal\n",
    "    while stack:\n",
    "        vertex = stack.pop()  # get the next vertex from the stack\n",
    "        if vertex not in visited:\n",
    "            visited.add(vertex)  # mark the vertex as visited\n",
    "            stack.extend(graph[vertex] - visited)  # add its neighbors to the stack\n",
    "    return visited"
   ]
  },
  {
   "cell_type": "code",
   "execution_count": 15,
   "id": "2b8c76e8",
   "metadata": {},
   "outputs": [
    {
     "data": {
      "text/plain": [
       "{'A', 'B', 'C', 'D', 'E', 'F', 'G', 'H', 'S'}"
      ]
     },
     "execution_count": 15,
     "metadata": {},
     "output_type": "execute_result"
    }
   ],
   "source": [
    "dfs(graph, 'A') "
   ]
  },
  {
   "cell_type": "code",
   "execution_count": 56,
   "id": "732edc7a",
   "metadata": {},
   "outputs": [],
   "source": [
    "#DFS IMPLEMENTATION IN GRAPHS"
   ]
  },
  {
   "cell_type": "code",
   "execution_count": 16,
   "id": "12d15f5a",
   "metadata": {},
   "outputs": [
    {
     "name": "stdout",
     "output_type": "stream",
     "text": [
      "A\n",
      "S\n",
      "C\n",
      "D\n",
      "E\n",
      "H\n",
      "G\n",
      "F\n",
      "B\n"
     ]
    }
   ],
   "source": [
    "graph = {\n",
    "    'A': set(['B', 'S']),\n",
    "    'B': set(['A']),\n",
    "    'S': set(['A','C','G']),\n",
    "    'C': set(['D','E','F','S']),\n",
    "    'G': set(['F','H','S']),\n",
    "    'D': set(['C']),\n",
    "    'E': set(['C', 'H']),\n",
    "    'F': set(['C', 'G']),\n",
    "    'H': set(['E', 'G'])\n",
    "}\n",
    "\n",
    "visited=set()\n",
    "def dfs(visited,graph,root):\n",
    "    if root not in visited:\n",
    "        print(root)\n",
    "        visited.add(root)\n",
    "        for neighbour in graph[root]:\n",
    "            dfs(visited,graph,neighbour)\n",
    "\n",
    "   \n",
    "dfs(visited,graph,'A')"
   ]
  },
  {
   "cell_type": "code",
   "execution_count": null,
   "id": "13837e30",
   "metadata": {},
   "outputs": [],
   "source": []
  }
 ],
 "metadata": {
  "kernelspec": {
   "display_name": "Python 3 (ipykernel)",
   "language": "python",
   "name": "python3"
  },
  "language_info": {
   "codemirror_mode": {
    "name": "ipython",
    "version": 3
   },
   "file_extension": ".py",
   "mimetype": "text/x-python",
   "name": "python",
   "nbconvert_exporter": "python",
   "pygments_lexer": "ipython3",
   "version": "3.10.9"
  }
 },
 "nbformat": 4,
 "nbformat_minor": 5
}
