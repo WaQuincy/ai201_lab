{
 "cells": [
  {
   "cell_type": "code",
   "execution_count": 1,
   "id": "90461ab4",
   "metadata": {},
   "outputs": [],
   "source": [
    "graph={\n",
    "    'S':[('A',2),('B',3),('D',5)],\n",
    "    'A':[('C',4)],\n",
    "    'B':[('D',4)],\n",
    "    'C':[('D',1),('G',2)],\n",
    "    'D':[('G',5)],\n",
    "    \n",
    "}"
   ]
  },
  {
   "cell_type": "code",
   "execution_count": 2,
   "id": "6a9e17a8",
   "metadata": {},
   "outputs": [],
   "source": [
    "def path_cost(path):\n",
    "    total_cost=0\n",
    "    for (node, cost) in path:\n",
    "        total_cost +=cost\n",
    "        return total_cost,path[-1][0]"
   ]
  },
  {
   "cell_type": "code",
   "execution_count": 3,
   "id": "0b05f604",
   "metadata": {},
   "outputs": [],
   "source": [
    "def ucs (graph,start,goal):\n",
    "    visited=[]\n",
    "    queue=[[(start,0)]]\n",
    "    while queue:\n",
    "        queue.sort(key=path_cost)\n",
    "        path=queue.pop(0)\n",
    "        node=path[-1][0]\n",
    "        if node in visited:\n",
    "            continue\n",
    "            visited.appended(node)\n",
    "            if node==goal:\n",
    "               return path\n",
    "        else:\n",
    "            adjacent_nodes=graph.get(node,[])\n",
    "            for (node2,cost) in adjacent_nodes:\n",
    "                new_path=path.copy()\n",
    "                new_path.append((node2,cost))\n",
    "                queue.append(new_path)"
   ]
  },
  {
   "cell_type": "code",
   "execution_count": 4,
   "id": "b9e1f472",
   "metadata": {},
   "outputs": [
    {
     "name": "stdout",
     "output_type": "stream",
     "text": [
      "None\n"
     ]
    },
    {
     "ename": "TypeError",
     "evalue": "'NoneType' object is not iterable",
     "output_type": "error",
     "traceback": [
      "\u001b[1;31m---------------------------------------------------------------------------\u001b[0m",
      "\u001b[1;31mTypeError\u001b[0m                                 Traceback (most recent call last)",
      "Cell \u001b[1;32mIn[4], line 3\u001b[0m\n\u001b[0;32m      1\u001b[0m solution\u001b[38;5;241m=\u001b[39mucs(graph,\u001b[38;5;124m'\u001b[39m\u001b[38;5;124mS\u001b[39m\u001b[38;5;124m'\u001b[39m,\u001b[38;5;124m'\u001b[39m\u001b[38;5;124mG\u001b[39m\u001b[38;5;124m'\u001b[39m)\n\u001b[0;32m      2\u001b[0m \u001b[38;5;28mprint\u001b[39m(solution)\n\u001b[1;32m----> 3\u001b[0m \u001b[38;5;28mprint\u001b[39m(\u001b[43mpath_cost\u001b[49m\u001b[43m(\u001b[49m\u001b[43msolution\u001b[49m\u001b[43m)\u001b[49m[\u001b[38;5;241m0\u001b[39m])\n",
      "Cell \u001b[1;32mIn[2], line 3\u001b[0m, in \u001b[0;36mpath_cost\u001b[1;34m(path)\u001b[0m\n\u001b[0;32m      1\u001b[0m \u001b[38;5;28;01mdef\u001b[39;00m \u001b[38;5;21mpath_cost\u001b[39m(path):\n\u001b[0;32m      2\u001b[0m     total_cost\u001b[38;5;241m=\u001b[39m\u001b[38;5;241m0\u001b[39m\n\u001b[1;32m----> 3\u001b[0m     \u001b[38;5;28;01mfor\u001b[39;00m (node, cost) \u001b[38;5;129;01min\u001b[39;00m path:\n\u001b[0;32m      4\u001b[0m         total_cost \u001b[38;5;241m+\u001b[39m\u001b[38;5;241m=\u001b[39mcost\n\u001b[0;32m      5\u001b[0m         \u001b[38;5;28;01mreturn\u001b[39;00m total_cost,path[\u001b[38;5;241m-\u001b[39m\u001b[38;5;241m1\u001b[39m][\u001b[38;5;241m0\u001b[39m]\n",
      "\u001b[1;31mTypeError\u001b[0m: 'NoneType' object is not iterable"
     ]
    }
   ],
   "source": [
    "solution=ucs(graph,'S','G')\n",
    "print(solution)\n",
    "print(path_cost(solution)[0])"
   ]
  },
  {
   "cell_type": "code",
   "execution_count": null,
   "id": "c7bde055",
   "metadata": {},
   "outputs": [],
   "source": [
    "class Graph:\n",
    "    def _init_(self):\n",
    "        self.edges={\"Arad\":[\"Zerind\",\"Timisoara\",\"Sibiu\"],\"Zerind\":[\"Oradea\"],\"Oradea\":[\"Sibiu\"],\"Timisoara\":[\"Lugoj\"],\"Lugoj\":[\"Mehadia\"],\"Mehadia\":[\"Dobreta\"],\"Dobreta\":[\"Craiova\"],\"Sibiu\":[\"Fagaras\",\"RimnicuVilcea\"],\"Craiova\":[\"RimnicuVilcea\",\"Pitesti\"],\"RimnicuVilcea\":[\"Craiova\",\"Pitesti\"],\"Fagaras\":[\"Bucharest\"],\"Pitesti\":[\"Bucharest\"],\"Bucharest\":[\"Giurgiu\",\"Urziceni\"],\"Urziceni\":[\"Hirsova\",\"Vaslui\"],\"Hirsova\":[\"Eforie\"],\"Vaslui\":[\"Lasi\"],\"Lasi\":[\"Neamt\"]}\n",
    "        self.weights={\"AradZerind\":75,\"ZerindOradea\":71,\"AradTimisoara\":118,\"TimisoaraLugoj\":111,\"LugojMehadia\":70,\"MehadiaDobreta\":75,\"AradSibiu\":140,\"OradeaSibiu\":151,\"DobretaCraiova\":120,\"CraiovaRimnicuVilcea\":146,\"CraiovaPitesti\":138,\"SibiuFagaras\":99,\"SibiuRimnicuVilcea\":80,\"RimnicuVilceaPitesti\":97,\"RimnicuVilceaCraiova\":146,\"FagarasBucharest\":211,\"PitestiBucharest\":101,\"BucharestGiurgiu\":90,\"BucharestUrziceni\":85,\"UrziceniHirsova\":98,\"HirsovaEforie\":86,\"UrziceniVaslui\":142,\"VasluiLasi\":92,\"LasiNeamt\":87}\n",
    "    def neighbors(self,node):\n",
    "        return self.edges[node]\n",
    "    def get_cost(self,from_node,to_node):\n",
    "        return self.weights[(from_node + to_node)]\n",
    "\n",
    "\n",
    "\n",
    "def ucs(graph, start, goal):\n",
    "    global total_cost\n",
    "    visited = set()\n",
    "    path=[]\n",
    "    queue = PriorityQueue()\n",
    "    queue.put((0, start))\n",
    "    while queue:\n",
    "        cost, node = queue.get()\n",
    "        if node not in visited:\n",
    "            visited.add(node)\n",
    "            if node == goal:\n",
    "                return visited\n",
    "            for i in graph.neighbors(node):\n",
    "                if i not in visited:\n",
    "                    total_cost = cost + graph.get_cost(node, i)\n",
    "                    queue.put((total_cost, I))\n",
    "\n",
    "\n",
    "graph=Graph()\n",
    "s=ucs(graph,\"Arad\",\"Bucharest\")\n",
    "print(s)"
   ]
  }
 ],
 "metadata": {
  "kernelspec": {
   "display_name": "Python 3 (ipykernel)",
   "language": "python",
   "name": "python3"
  },
  "language_info": {
   "codemirror_mode": {
    "name": "ipython",
    "version": 3
   },
   "file_extension": ".py",
   "mimetype": "text/x-python",
   "name": "python",
   "nbconvert_exporter": "python",
   "pygments_lexer": "ipython3",
   "version": "3.10.9"
  }
 },
 "nbformat": 4,
 "nbformat_minor": 5
}
